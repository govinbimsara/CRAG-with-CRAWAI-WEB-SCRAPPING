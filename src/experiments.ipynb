{
 "cells": [
  {
   "cell_type": "code",
   "execution_count": 50,
   "metadata": {},
   "outputs": [],
   "source": [
    "from langchain_groq import ChatGroq\n",
    "from langgraph.checkpoint.memory import MemorySaver, InMemorySaver\n",
    "from langchain_huggingface import HuggingFaceEmbeddings\n",
    "from langgraph.graph import END, StateGraph, START\n",
    "from langchain_community.vectorstores import FAISS\n",
    "from langchain_core.output_parsers import StrOutputParser\n",
    "from langchain_core.prompts import ChatPromptTemplate\n",
    "from langchain_core.pydantic_v1 import BaseModel, Field\n",
    "from typing import Literal, List\n",
    "from typing_extensions import TypedDict\n",
    "from dotenv import load_dotenv\n",
    "import uuid\n",
    "import os\n",
    "from pprint import pprint"
   ]
  },
  {
   "cell_type": "code",
   "execution_count": 9,
   "metadata": {},
   "outputs": [
    {
     "data": {
      "text/plain": [
       "True"
      ]
     },
     "execution_count": 9,
     "metadata": {},
     "output_type": "execute_result"
    }
   ],
   "source": [
    "load_dotenv()"
   ]
  },
  {
   "cell_type": "code",
   "execution_count": 10,
   "metadata": {},
   "outputs": [],
   "source": [
    "groq_api_key = os.getenv(\"GROQ_API_KEY\")\n",
    "os.environ[\"LANGCHAIN_API_KEY\"] = os.getenv(\"LANGCHAIN_API_KEY\")\n",
    "# os.environ[\"LANGCHAIN_PROJECT\"] = os.getenv(\"LANGCHAIN_PROJECT\")\n",
    "# os.environ[\"LANGCHAIN_TRACING_V2\"]=\"true\"\n",
    "os.environ[\"HF_TOKEN\"] = os.getenv(\"HF_TOKEN\")"
   ]
  },
  {
   "cell_type": "code",
   "execution_count": 11,
   "metadata": {},
   "outputs": [
    {
     "name": "stderr",
     "output_type": "stream",
     "text": [
      "/usr/local/python/3.12.1/lib/python3.12/site-packages/tqdm/auto.py:21: TqdmWarning: IProgress not found. Please update jupyter and ipywidgets. See https://ipywidgets.readthedocs.io/en/stable/user_install.html\n",
      "  from .autonotebook import tqdm as notebook_tqdm\n"
     ]
    }
   ],
   "source": [
    "llm = ChatGroq(model=os.getenv(\"LLM_MODEL\", \"llama-3.1-8b-instant\"), api_key=groq_api_key)\n",
    "embeddings_model = HuggingFaceEmbeddings(model_name='all-MiniLM-L6-v2')"
   ]
  },
  {
   "cell_type": "code",
   "execution_count": 12,
   "metadata": {},
   "outputs": [],
   "source": [
    "llm2 = ChatGroq(model=os.getenv(\"LLM_MODEL\", \"llama3-70b-8192\"), api_key=groq_api_key)"
   ]
  },
  {
   "cell_type": "code",
   "execution_count": 61,
   "metadata": {},
   "outputs": [],
   "source": [
    "# gemma2-9b-it\n",
    "\n",
    "vectorstore = FAISS.load_local(\"/workspaces/CRAG-with-CRAWAI-WEB-SCRAPPING/faiss_index\", embeddings_model, allow_dangerous_deserialization=True)\n",
    "retriever = vectorstore.as_retriever(search_kwargs={\"k\": 3})"
   ]
  },
  {
   "cell_type": "code",
   "execution_count": 58,
   "metadata": {},
   "outputs": [
    {
     "name": "stdout",
     "output_type": "stream",
     "text": [
      "[Document(id='5a612a88-4d60-4d06-a4e4-323fefac8323', metadata={'title': 'Contact Genie Business for Home-Based Business Inquiries', 'summary': 'To learn more about home-based businesses, fill out the form on this page or reach out via call or email. Genie Business aims to respond to all inquiries within 24 hours on business days.', 'url': 'https://www.geniebusiness.lk/home-based-business.php'}, page_content='the form below and we will contact you. We endeavor to answer all inquiries within 24 hours on business days. \\n[ Call](https://www.geniebusiness.lk/<tel:+94760760760>) Email\\nName\\nEmail\\nPhone Number\\nMessage\\nSubmit\\n[ ![](https://www.geniebusiness.lk/media/callemail.png) ](https://www.geniebusiness.lk/<#contact-pop>)'), Document(id='2706f1d7-ef78-43de-b4ac-36068df735d4', metadata={'title': 'Pricing - Genie Business', 'summary': 'View the pricing information for Genie Business services. Contact them via call or email for inquiries, which will be answered within 24 hours on business days. Fill in the form to request more information.', 'url': 'https://www.geniebusiness.lk/pricing.php'}, page_content='tact.php>) [Terms and Conditions](https://www.geniebusiness.lk/<downloads/Terms-and-Conditions-Genie-Business.pdf>)\\n[](https://www.geniebusiness.lk/<#>) [](https://www.geniebusiness.lk/<#>) [](https://www.geniebusiness.lk/<#>) [](https://www.geniebusiness.lk/<#>)\\nGive us a call or fill in the form below and we will contact you. We endeavor to answer all inquiries within 24 hours on business days. \\n[ Call](https://www.geniebusiness.lk/<tel:+94760760760>) Email\\nName\\nEmail\\nPhone Number\\nMessage\\nSubmit\\n[ ![](https://www.geniebusiness.lk/media/callemail.png) ](https://www.geniebusiness.lk/<#contact-pop>)'), Document(id='3334aaf2-6f7c-4e09-b7fd-ae740527f50a', metadata={'title': 'Contact Genie Business', 'summary': 'To get in touch with Genie Business, you can call them or fill out the contact form on their website. They aim to respond to all inquiries within 24 hours on business days.', 'url': 'https://www.geniebusiness.lk/retail.php'}, page_content='and we will contact you. We endeavor to answer all inquiries within 24 hours on business days. \\n[ Call](https://www.geniebusiness.lk/<tel:+94760760760>) Email\\nName\\nEmail\\nPhone Number\\nMessage\\nSubmit\\n[ ![](https://www.geniebusiness.lk/media/callemail.png) ](https://www.geniebusiness.lk/<#contact-pop>)'), Document(id='0917d16a-507e-4b75-a768-402400e0f4d4', metadata={'title': 'E-commerce and Social Media Business | Genie Business', 'summary': 'Genie Business offers e-commerce and social media business solutions. Contact them via phone or email for inquiries, or submit a message using the form provided. Their team aims to respond to all inquiries within 24 hours on business days.', 'url': 'https://www.geniebusiness.lk/ecommerce-and-social-media-business.php'}, page_content='k/<#>) [](https://www.geniebusiness.lk/<#>) [](https://www.geniebusiness.lk/<#>) [](https://www.geniebusiness.lk/<#>)\\nGive us a call or fill in the form below and we will contact you. We endeavor to answer all inquiries within 24 hours on business days. \\n[ Call](https://www.geniebusiness.lk/<tel:+94760760760>) Email\\nName\\nEmail\\nPhone Number\\nMessage\\nSubmit\\n[ ![](https://www.geniebusiness.lk/media/callemail.png) ](https://www.geniebusiness.lk/<#contact-pop>)')]\n"
     ]
    }
   ],
   "source": [
    "docs = retriever.invoke(\"Hi my name is Govin\")\n",
    "print(docs)"
   ]
  },
  {
   "cell_type": "markdown",
   "metadata": {},
   "source": [
    "RAG CHAIN"
   ]
  },
  {
   "cell_type": "code",
   "execution_count": 15,
   "metadata": {},
   "outputs": [],
   "source": [
    "system = \"\"\"You are a customer service assistant for 'Genie Business' called 'Ashen' for question-answering tasks. \\n\n",
    "You are always giving answers to a merchant who is looking to get information. \\n\n",
    "Use the following pieces of retrieved context to answer the question. \\n\n",
    "If you don't know the answer, just say that you don't know. \\n\n",
    "Use simpler and keep the answer short but detailed and answer concise.\"\"\"\n",
    "\n",
    "agent_promt = ChatPromptTemplate.from_messages(\n",
    "    [\n",
    "        (\"system\", system),\n",
    "        (\"human\", \"Answer the question {question} with the context {context}\"),\n",
    "    ]\n",
    ")\n",
    "rag_chain = agent_promt | llm | StrOutputParser()"
   ]
  },
  {
   "cell_type": "code",
   "execution_count": 16,
   "metadata": {},
   "outputs": [
    {
     "name": "stdout",
     "output_type": "stream",
     "text": [
      "Hello Govin, I'm Ashen from Genie Business. How can I assist you today?\n"
     ]
    }
   ],
   "source": [
    "question = \"Hi my name is Govin\"\n",
    "generation = rag_chain.invoke({\"context\": docs, \"question\": question})\n",
    "print(generation)"
   ]
  },
  {
   "cell_type": "markdown",
   "metadata": {},
   "source": [
    "Graded document class"
   ]
  },
  {
   "cell_type": "code",
   "execution_count": 17,
   "metadata": {},
   "outputs": [],
   "source": [
    "class Grade(BaseModel):\n",
    "    \"\"\"Binary score for relevance\"\"\"\n",
    "\n",
    "    binary_score: Literal[\"Yes\", \"No\"] = Field(description=\"Useful score 'Yes' or 'No'\")"
   ]
  },
  {
   "cell_type": "markdown",
   "metadata": {},
   "source": [
    "LLM with structured output"
   ]
  },
  {
   "cell_type": "code",
   "execution_count": 18,
   "metadata": {},
   "outputs": [],
   "source": [
    "structured_llm_grader = llm2.with_structured_output(Grade)\n",
    "\n",
    "system = \"\"\"You are an expert at grading and assessing relevance of a retrieved document to a user question. \\n \n",
    "    If the document contains keyword(s) or semantic meaning related to the question, grade it as relevant. \\n\n",
    "    Give a binary score 'yes' or 'no' score to indicate whether the document is relevant to the question.\"\"\"\n",
    "\n",
    "grade_prompt = ChatPromptTemplate.from_messages(\n",
    "    [\n",
    "        (\"system\",system),\n",
    "        (\"human\",\"Retrieved document: \\n\\n {document} \\n\\n User question: {question}\")\n",
    "    ]\n",
    ")\n",
    "\n",
    "retrieval_grader = grade_prompt | structured_llm_grader"
   ]
  },
  {
   "cell_type": "code",
   "execution_count": 19,
   "metadata": {},
   "outputs": [
    {
     "name": "stderr",
     "output_type": "stream",
     "text": [
      "/tmp/ipykernel_48757/2712839225.py:2: LangChainDeprecationWarning: The method `BaseRetriever.get_relevant_documents` was deprecated in langchain-core 0.1.46 and will be removed in 1.0. Use :meth:`~invoke` instead.\n",
      "  docs = retriever.get_relevant_documents(question)\n"
     ]
    },
    {
     "name": "stdout",
     "output_type": "stream",
     "text": [
      "binary_score='Yes'\n"
     ]
    }
   ],
   "source": [
    "question = \"What is genie business\"\n",
    "docs = retriever.get_relevant_documents(question)\n",
    "doc_txt = docs[1].page_content\n",
    "print(retrieval_grader.invoke({\"question\": question, \"document\": doc_txt}))"
   ]
  },
  {
   "cell_type": "code",
   "execution_count": 20,
   "metadata": {},
   "outputs": [
    {
     "name": "stdout",
     "output_type": "stream",
     "text": [
      "binary_score='No'\n"
     ]
    }
   ],
   "source": [
    "question = \"tell me about the Tajmahal.\"\n",
    "docs = retriever.get_relevant_documents(question)\n",
    "doc_txt = docs[1].page_content\n",
    "print(retrieval_grader.invoke({\"question\": question, \"document\": doc_txt}))"
   ]
  },
  {
   "cell_type": "markdown",
   "metadata": {},
   "source": [
    "Question re-writer"
   ]
  },
  {
   "cell_type": "code",
   "execution_count": 21,
   "metadata": {},
   "outputs": [],
   "source": [
    "system = \"\"\"You an expert question re-writer that converts an input question to a better version that is optimized for web search. \\n\n",
    "Look at the input and try to reason about the underlying semantic intent / meaning \\n\n",
    "Reply only with the new question \\n\n",
    "\"\"\"\n",
    "\n",
    "rewrite_prompt = ChatPromptTemplate.from_messages(\n",
    "    [\n",
    "        (\"system\",system),\n",
    "        (\"human\",\"Here is the initial question: \\n\\n {question} \\n Formulate an improved question.\")\n",
    "    ]\n",
    ")\n",
    "\n",
    "question_rewriter = rewrite_prompt | llm2 | StrOutputParser()"
   ]
  },
  {
   "cell_type": "code",
   "execution_count": 22,
   "metadata": {},
   "outputs": [
    {
     "data": {
      "text/plain": [
       "'What is the history and significance of the Taj Mahal in India?'"
      ]
     },
     "execution_count": 22,
     "metadata": {},
     "output_type": "execute_result"
    }
   ],
   "source": [
    "question_rewriter.invoke({\"question\": question})"
   ]
  },
  {
   "cell_type": "code",
   "execution_count": 24,
   "metadata": {},
   "outputs": [],
   "source": [
    "system = \"\"\"You are a grader assessing whether an answer is grounded in / supported by a set of facts containing in the documment. \\n \n",
    "Give a binary score 'Yes' or 'No' to indicate whether the answer is grounded in / supported by a set of facts.\"\"\"\n",
    "\n",
    "gen_v_doc_prompt = ChatPromptTemplate.from_messages(\n",
    "    [\n",
    "        (\"system\",system),\n",
    "        (\"human\",\"Heres the document: \\n\\n {document} \\n\\n Here is the answer : {generation}\")\n",
    "    ]\n",
    ")\n",
    "\n",
    "generation_v_document_grader = gen_v_doc_prompt | structured_llm_grader"
   ]
  },
  {
   "cell_type": "code",
   "execution_count": 26,
   "metadata": {},
   "outputs": [
    {
     "name": "stdout",
     "output_type": "stream",
     "text": [
      "binary_score='Yes'\n"
     ]
    }
   ],
   "source": [
    "generation = \"My name is Ashen\"\n",
    "docs = \"Ashen is my name\"\n",
    "print(generation_v_document_grader.invoke({\"document\": docs, \"generation\":generation}))"
   ]
  },
  {
   "cell_type": "code",
   "execution_count": 28,
   "metadata": {},
   "outputs": [],
   "source": [
    "system = \"\"\"You are a grader assessing whether an answer is useful to resolve a question. \\n \n",
    "Look at the question and answer and try to reason whether the answer resolves the question or not. \\n\n",
    "Give a binary score 'yes' or 'no' to indicate whether the answer is useful to resolve a question.\"\"\"\n",
    "\n",
    "gen_v_ques_prompt = ChatPromptTemplate.from_messages(\n",
    "    [\n",
    "        (\"system\",system),\n",
    "        (\"human\",\"Heres the question: \\n\\n {question} \\n\\n Here is the answer : {generation}\")\n",
    "    ]\n",
    ")\n",
    "generation_v_question_grader = gen_v_ques_prompt | structured_llm_grader"
   ]
  },
  {
   "cell_type": "code",
   "execution_count": 30,
   "metadata": {},
   "outputs": [
    {
     "name": "stdout",
     "output_type": "stream",
     "text": [
      "binary_score='Yes'\n"
     ]
    }
   ],
   "source": [
    "generation = \"My name is Ashen\"\n",
    "question = \"What is your name\"\n",
    "print(generation_v_question_grader.invoke({\"question\": question, \"generation\":generation}))"
   ]
  },
  {
   "cell_type": "markdown",
   "metadata": {},
   "source": [
    "Create state class to manage state in the graph"
   ]
  },
  {
   "cell_type": "code",
   "execution_count": 31,
   "metadata": {},
   "outputs": [],
   "source": [
    "class State(TypedDict):\n",
    "    \"\"\"\n",
    "    Represents the state of our graph.\n",
    "\n",
    "    Attributes:\n",
    "        question: question\n",
    "        generation: LLM generation\n",
    "        web_search: whether to add search\n",
    "        documents: list of documents\n",
    "    \"\"\"\n",
    "\n",
    "    question: str\n",
    "    generation: str\n",
    "    web_search: str\n",
    "    documents: List[str]"
   ]
  },
  {
   "cell_type": "code",
   "execution_count": null,
   "metadata": {},
   "outputs": [],
   "source": [
    "class State(TypedDict):\n",
    "    \"\"\"\n",
    "    Represents the state of our graph.\n",
    "\n",
    "    Attributes:\n",
    "        question: question\n",
    "        generation: LLM generation\n",
    "        web_search: whether to add search\n",
    "        documents: list of documents\n",
    "    \"\"\"\n",
    "    messages: Annotated[Sequence[BaseMessage], add_messages]\n",
    "    question: str\n",
    "    generation: str\n",
    "    web_search: str\n",
    "    documents: List[str]"
   ]
  },
  {
   "cell_type": "markdown",
   "metadata": {},
   "source": [
    "Create required functions"
   ]
  },
  {
   "cell_type": "code",
   "execution_count": 62,
   "metadata": {},
   "outputs": [],
   "source": [
    "def retrieve(state):\n",
    "    \"\"\"\n",
    "    Retrieve documents\n",
    "\n",
    "    Args:\n",
    "        state (dict): The current graph state\n",
    "\n",
    "    Returns:\n",
    "    \n",
    "    \"\"\"\n",
    "    question = state[\"question\"]\n",
    "    documents = retriever.invoke(question)\n",
    "\n",
    "    return {\"documents\":documents, \"question\":question}"
   ]
  },
  {
   "cell_type": "code",
   "execution_count": 69,
   "metadata": {},
   "outputs": [],
   "source": [
    "def grade_documents(state):\n",
    "    \"\"\"\n",
    "    Determines whether the retrieved documents are relevant to the question.\n",
    "\n",
    "    Args:\n",
    "        state (dict): The current graph state\n",
    "\n",
    "    Returns:\n",
    "        state (dict): Updates documents key with only filtered relevant documents\n",
    "    \"\"\"\n",
    "    print(\"---CHECKING DOCUMENT RELEVANT IS TO QUESTION OR NOT---\")\n",
    "\n",
    "    question = state[\"question\"]\n",
    "    documents = state[\"documents\"]\n",
    "\n",
    "    # Score each doc\n",
    "    filtered_docs = []\n",
    "\n",
    "    for d in documents:\n",
    "        score = retrieval_grader.invoke({\"question\": question, \"document\": d.page_content})\n",
    "        grade = score.binary_score\n",
    "\n",
    "        if grade == 'Yes':\n",
    "            print(\"---GRADE: DOCUMENT RELEVANT---\")\n",
    "            filtered_docs.append(d.page_content)\n",
    "        else:\n",
    "            print(\"---GRADE: DOCUMENT NOT RELEVANT---\")\n",
    "            continue\n",
    "    \n",
    "    return {\"documents\":filtered_docs, \"question\":question}"
   ]
  },
  {
   "cell_type": "code",
   "execution_count": 35,
   "metadata": {},
   "outputs": [],
   "source": [
    "def generate(state):\n",
    "    \"\"\"\n",
    "    Generate answer\n",
    "\n",
    "    Args:\n",
    "        state (dict): The current graph state\n",
    "\n",
    "    Returns:\n",
    "        state (dict): New key added to state, generation, that contains LLM generation\n",
    "    \"\"\"\n",
    "    \n",
    "    print(\"---GENERATE---\")\n",
    "\n",
    "    question = state[\"question\"]\n",
    "    documents = state[\"documents\"]\n",
    "\n",
    "    generation = rag_chain.invoke({\"context\":documents, \"question\":question})\n",
    "\n",
    "    return {\"documents\":documents, \"question\":question, \"generation\":generation}"
   ]
  },
  {
   "cell_type": "code",
   "execution_count": 36,
   "metadata": {},
   "outputs": [],
   "source": [
    "def transform_query(state):\n",
    "    \"\"\"\n",
    "    Transform the query to produce a better question.\n",
    "\n",
    "    Args:\n",
    "        state (dict): The current graph state\n",
    "\n",
    "    Returns:\n",
    "        state (dict): Updates question key with a re-phrased question\n",
    "    \"\"\"\n",
    "    print(\"---TRANSFORM QUERY---\")\n",
    "    \n",
    "    question = state[\"question\"]\n",
    "    \n",
    "    documents = state[\"documents\"]\n",
    "\n",
    "    better_question = question_rewriter.invoke({\"question\":question})\n",
    "\n",
    "    return {\"documents\":documents, \"question\":better_question}"
   ]
  },
  {
   "cell_type": "code",
   "execution_count": 37,
   "metadata": {},
   "outputs": [],
   "source": [
    "def prepare_for_final_grade(state):\n",
    "    \"\"\"\n",
    "    Stage for final grade, passthrough state.\n",
    "\n",
    "    Args:\n",
    "        state (dict): The current state of the agent, including all keys.\n",
    "\n",
    "    Returns:\n",
    "        state (dict): The current state of the agent, including all keys.\n",
    "    \"\"\"\n",
    "    print(\"---FINAL GRADE---\")\n",
    "\n",
    "    question = state[\"question\"]\n",
    "    documents = state[\"documents\"]\n",
    "    generation = state[\"generation\"]\n",
    "\n",
    "    return {\"documents\":documents, \"question\":question, \"generation\":generation} "
   ]
  },
  {
   "cell_type": "code",
   "execution_count": 38,
   "metadata": {},
   "outputs": [],
   "source": [
    "def decide_to_generate(state):\n",
    "    \"\"\"\n",
    "    Determines whether to generate an answer, or re-generate a question.\n",
    "\n",
    "    Args:\n",
    "        state (dict): The current state of the agent, including all keys.\n",
    "\n",
    "    Returns:\n",
    "        dict: New key added to state, filtered_documents, that contains relevant documents.\n",
    "    \"\"\"\n",
    "    question = state[\"question\"]\n",
    "    filtered_documents = state[\"documents\"]\n",
    "\n",
    "    if not filtered_documents:\n",
    "        # All documents have been filtered check_relevance\n",
    "        #re-generate a new query\n",
    "        print(\"---DECISION: TRANSFORM QUERY---\")\n",
    "        return \"transform_query\"\n",
    "    else:\n",
    "        # We have relevant documents, so generate answer\n",
    "        print(\"---DECISION: GENERATE---\")\n",
    "        return \"generate\"\n"
   ]
  },
  {
   "cell_type": "code",
   "execution_count": 52,
   "metadata": {},
   "outputs": [],
   "source": [
    "def grade_generation_v_documents(state):\n",
    "    \"\"\"\n",
    "    Determines whether the generation is grounded in the document.\n",
    "\n",
    "    Args:\n",
    "        state (dict): The current state of the agent, including all keys.\n",
    "\n",
    "    Returns:\n",
    "        str: Binary decision score.\n",
    "    \"\"\"\n",
    "    question = state[\"question\"]\n",
    "    documents = state[\"documents\"]\n",
    "    generation = state[\"generation\"]\n",
    "\n",
    "    score = generation_v_document_grader.invoke({\"document\":documents, \"generation\":generation})\n",
    "    if score.binary_score == \"Yes\":\n",
    "        print(\"---DECISION: SUPPORTED, MOVE TO FINAL GRADE---\")\n",
    "        return \"supported\"\n",
    "    else:\n",
    "        print(\"---DECISION: NOT SUPPORTED, GENERATE AGAIN---\")\n",
    "        return \"not supported\""
   ]
  },
  {
   "cell_type": "code",
   "execution_count": 40,
   "metadata": {},
   "outputs": [],
   "source": [
    "def grade_generation_v_question(state):\n",
    "    \"\"\"\n",
    "    Determines whether the generation addresses the question.\n",
    "\n",
    "    Args:\n",
    "        state (dict): The current state of the agent, including all keys.\n",
    "\n",
    "    Returns:\n",
    "        str: Binary decision score.\n",
    "    \"\"\"\n",
    "    question = state[\"question\"]\n",
    "    documents = state[\"documents\"]\n",
    "    generation = state[\"generation\"]\n",
    "\n",
    "    score = generation_v_question_grader.invoke({\"question\":question, \"generation\":generation})\n",
    "    if score.binary_score == \"Yes\":\n",
    "        print(\"---DECISION: USEFUL---\")\n",
    "        return \"useful\"\n",
    "    else:\n",
    "        print(\"---DECISION: NOT USEFUL---\")\n",
    "        return \"not useful\""
   ]
  },
  {
   "cell_type": "markdown",
   "metadata": {},
   "source": [
    "Graph"
   ]
  },
  {
   "cell_type": "code",
   "execution_count": null,
   "metadata": {},
   "outputs": [],
   "source": [
    "workflow = StateGraph(State)\n",
    "\n",
    "#Define nodes\n",
    "workflow.add_node(\"retrieve\",retrieve)\n",
    "workflow.add_node(\"grade_documents\",grade_documents)\n",
    "workflow.add_node(\"generate\",generate)\n",
    "workflow.add_node(\"transform_query\",transform_query)\n",
    "workflow.add_node(\"prepare_for_final_grade\",prepare_for_final_grade)\n",
    "\n",
    "#Building the graph\n",
    "workflow.add_edge(START, \"retrieve\")\n",
    "workflow.add_edge(\"retrieve\",\"grade_documents\")\n",
    "workflow.add_conditional_edges(\"grade_documents\",decide_to_generate,\n",
    "                               {\"transform_query\":\"transform_query\",\n",
    "                                \"generate\":\"generate\"}\n",
    "                                )\n",
    "workflow.add_edge(\"transform_query\",\"retrieve\")\n",
    "workflow.add_conditional_edges(\"generate\",grade_generation_v_documents,\n",
    "                               {\"supported\":\"prepare_for_final_grade\",\n",
    "                                \"not supported\":\"generate\"}\n",
    "                               )\n",
    "workflow.add_conditional_edges(\"prepare_for_final_grade\",grade_generation_v_question,\n",
    "                               {\"useful\":END,\n",
    "                                \"not useful\":\"generate\"}\n",
    "                                )\n",
    "memory = MemorySaver()\n",
    "app = workflow.compile(checkpointer=memory)"
   ]
  },
  {
   "cell_type": "code",
   "execution_count": 73,
   "metadata": {},
   "outputs": [
    {
     "data": {
      "image/png": "[encoded data removed]",
      "text/plain": [
       "<IPython.core.display.Image object>"
      ]
     },
     "metadata": {},
     "output_type": "display_data"
    }
   ],
   "source": [
    "# Display the graph\n",
    "from IPython.display import Image, display # type: ignore\n",
    "display(Image(app.get_graph(xray=True).draw_mermaid_png()))"
   ]
  },
  {
   "cell_type": "code",
   "execution_count": 74,
   "metadata": {},
   "outputs": [],
   "source": [
    "thread_id = str(uuid.uuid4())\n",
    "config = {\n",
    "    \"configurable\": {\n",
    "        \"thread_id\": thread_id\n",
    "    }\n",
    "}"
   ]
  },
  {
   "cell_type": "code",
   "execution_count": 75,
   "metadata": {},
   "outputs": [
    {
     "name": "stdout",
     "output_type": "stream",
     "text": [
      "\"Node 'retrieve':\"\n",
      "'\\n---\\n'\n",
      "---CHECKING DOCUMENT RELEVANT IS TO QUESTION OR NOT---\n",
      "---GRADE: DOCUMENT RELEVANT---\n",
      "---GRADE: DOCUMENT RELEVANT---\n",
      "---GRADE: DOCUMENT RELEVANT---\n",
      "---DECISION: GENERATE---\n",
      "\"Node 'grade_documents':\"\n",
      "'\\n---\\n'\n",
      "---GENERATE---\n",
      "---DECISION: SUPPORTED, MOVE TO FINAL GRADE---\n",
      "\"Node 'generate':\"\n",
      "'\\n---\\n'\n",
      "---FINAL GRADE---\n",
      "---DECISION: USEFUL---\n",
      "\"Node 'prepare_for_final_grade':\"\n",
      "'\\n---\\n'\n",
      "('Genie Business is an all-in-one fintech business solution in Sri Lanka that '\n",
      " 'simplifies receiving payments through various methods, including QR codes, '\n",
      " 'tap to pay, and payment links. It offers working capital services, an '\n",
      " 'Internet Payment Gateway (IPG), Multi-Currency Pricing (MCP), and an '\n",
      " \"E-Store, catering to the diverse needs of today's businesses.\")\n"
     ]
    }
   ],
   "source": [
    "inputs = {\"question\": \"What is Genie Business.\"}\n",
    "for output in app.stream(inputs, config=config):\n",
    "    for key, value in output.items():\n",
    "        # Node\n",
    "        pprint(f\"Node '{key}':\")\n",
    "        # Optional: print full state at each node\n",
    "        # pprint.pprint(value[\"keys\"], indent=2, width=80, depth=None)\n",
    "    pprint(\"\\n---\\n\")\n",
    "# Final generation\n",
    "pprint(value[\"generation\"])"
   ]
  },
  {
   "cell_type": "code",
   "execution_count": 76,
   "metadata": {},
   "outputs": [
    {
     "name": "stdout",
     "output_type": "stream",
     "text": [
      "\"Node 'retrieve':\"\n",
      "'\\n---\\n'\n",
      "---CHECKING DOCUMENT RELEVANT IS TO QUESTION OR NOT---\n",
      "---GRADE: DOCUMENT RELEVANT---\n",
      "---GRADE: DOCUMENT RELEVANT---\n",
      "---GRADE: DOCUMENT RELEVANT---\n",
      "---DECISION: GENERATE---\n",
      "\"Node 'grade_documents':\"\n",
      "'\\n---\\n'\n",
      "---GENERATE---\n",
      "---DECISION: SUPPORTED, MOVE TO FINAL GRADE---\n",
      "\"Node 'generate':\"\n",
      "'\\n---\\n'\n",
      "---FINAL GRADE---\n",
      "---DECISION: USEFUL---\n",
      "\"Node 'prepare_for_final_grade':\"\n",
      "'\\n---\\n'\n",
      "('We offer a variety of services to help businesses grow and succeed. Some of '\n",
      " 'our key services include:\\n'\n",
      " '\\n'\n",
      " '1. **Easy and Versatile Payment Solutions**: We provide Tap to Pay, QR Code '\n",
      " 'Payments, Payment Links, and Internet Payment Gateway (IPG) to simplify '\n",
      " 'transactions and increase customer satisfaction.\\n'\n",
      " '2. **Working Capital Services**: Our flexible working capital solutions help '\n",
      " 'businesses fuel their growth and overcome financial challenges.\\n'\n",
      " '3. **Multi-Currency Pricing (MCP)**: This feature allows businesses to '\n",
      " 'accept payments in various currencies, expanding their customer base and '\n",
      " 'increasing revenue.\\n'\n",
      " '4. **E-Store**: Our E-Store solution enables businesses to launch their '\n",
      " 'online stores, offering seamless shopping experiences to customers.\\n'\n",
      " '5. **Billing Services**: We offer a range of billing services, including '\n",
      " 'utility, insurance, and Dialog mobile number reloads, to help businesses '\n",
      " 'earn additional income.\\n'\n",
      " '6. **Lending Solutions**: Our lending solutions provide businesses with '\n",
      " 'flexible and convenient access to working capital, helping them overcome '\n",
      " 'financial challenges and achieve growth.\\n'\n",
      " '7. **Industry-Specific Solutions**: We cater to various industries, '\n",
      " 'including Retail, E-commerce & Social Media Businesses, Travel and Tourism, '\n",
      " 'Home Based Business, Professional Services, Medium and Large Corporates, and '\n",
      " 'Other Businesses.\\n'\n",
      " '\\n'\n",
      " 'These services are designed to help businesses streamline their operations, '\n",
      " 'increase customer satisfaction, and achieve growth and success.')\n"
     ]
    }
   ],
   "source": [
    "inputs = {\"question\": \"What services do you offer?\"}\n",
    "for output in app.stream(inputs, config=config):\n",
    "    for key, value in output.items():\n",
    "        # Node\n",
    "        pprint(f\"Node '{key}':\")\n",
    "        # Optional: print full state at each node\n",
    "        # pprint.pprint(value[\"keys\"], indent=2, width=80, depth=None)\n",
    "    pprint(\"\\n---\\n\")\n",
    "# Final generation\n",
    "pprint(value[\"generation\"])"
   ]
  },
  {
   "cell_type": "code",
   "execution_count": 77,
   "metadata": {},
   "outputs": [
    {
     "name": "stdout",
     "output_type": "stream",
     "text": [
      "\"Node 'retrieve':\"\n",
      "'\\n---\\n'\n",
      "---CHECKING DOCUMENT RELEVANT IS TO QUESTION OR NOT---\n",
      "---GRADE: DOCUMENT RELEVANT---\n",
      "---GRADE: DOCUMENT RELEVANT---\n",
      "---GRADE: DOCUMENT RELEVANT---\n",
      "---DECISION: GENERATE---\n",
      "\"Node 'grade_documents':\"\n",
      "'\\n---\\n'\n",
      "---GENERATE---\n",
      "---DECISION: SUPPORTED, MOVE TO FINAL GRADE---\n",
      "\"Node 'generate':\"\n",
      "'\\n---\\n'\n",
      "---FINAL GRADE---\n",
      "---DECISION: USEFUL---\n",
      "\"Node 'prepare_for_final_grade':\"\n",
      "'\\n---\\n'\n",
      "('Considering you have a business with both a website and a retail store, the '\n",
      " 'ideal payment solutions for you would be:\\n'\n",
      " '\\n'\n",
      " '1. **Payment Links**: This allows customers to make secure, remote '\n",
      " 'transactions by sending payment links through email or messaging apps.\\n'\n",
      " '2. **QR Code Payments**: This enables customers to make fast, secure, and '\n",
      " 'convenient payments using their smartphones by scanning QR codes.\\n'\n",
      " '3. **Internet Payment Gateway (IPG)**: This facilitates online transactions, '\n",
      " 'supporting the e-commerce needs of your modern business.\\n'\n",
      " '4. **E-store**: This enables you to quickly launch your online store, '\n",
      " 'offering seamless shopping experiences to your customers.\\n'\n",
      " '\\n'\n",
      " 'These payment solutions from Genie Business cater to the diverse needs of '\n",
      " 'your business, providing easy and versatile payment options for your '\n",
      " 'customers.')\n"
     ]
    }
   ],
   "source": [
    "inputs = {\"question\": \"I have business which have a website as well as a retail store what payment solutions are ideal for me?\"}\n",
    "for output in app.stream(inputs, config=config):\n",
    "    for key, value in output.items():\n",
    "        # Node\n",
    "        pprint(f\"Node '{key}':\")\n",
    "        # Optional: print full state at each node\n",
    "        # pprint.pprint(value[\"keys\"], indent=2, width=80, depth=None)\n",
    "    pprint(\"\\n---\\n\")\n",
    "# Final generation\n",
    "pprint(value[\"generation\"])"
   ]
  },
  {
   "cell_type": "code",
   "execution_count": 80,
   "metadata": {},
   "outputs": [
    {
     "name": "stdout",
     "output_type": "stream",
     "text": [
      "\"Node 'retrieve':\"\n",
      "'\\n---\\n'\n",
      "---CHECKING DOCUMENT RELEVANT IS TO QUESTION OR NOT---\n"
     ]
    },
    {
     "name": "stdout",
     "output_type": "stream",
     "text": [
      "---GRADE: DOCUMENT RELEVANT---\n",
      "---GRADE: DOCUMENT RELEVANT---\n",
      "---GRADE: DOCUMENT RELEVANT---\n",
      "---DECISION: GENERATE---\n",
      "\"Node 'grade_documents':\"\n",
      "'\\n---\\n'\n",
      "---GENERATE---\n",
      "---DECISION: SUPPORTED, MOVE TO FINAL GRADE---\n",
      "\"Node 'generate':\"\n",
      "'\\n---\\n'\n",
      "---FINAL GRADE---\n",
      "---DECISION: USEFUL---\n",
      "\"Node 'prepare_for_final_grade':\"\n",
      "'\\n---\\n'\n",
      "('The pricing for Genie Business is as follows:\\n'\n",
      " '\\n'\n",
      " '- Tap-to-Pay: 2.75%\\n'\n",
      " '- LQR: 1.00%\\n'\n",
      " '- Int QR: 1.80%\\n'\n",
      " '- E-Store: 2.75% or 3.00%\\n'\n",
      " '- Payment Links: 2.75% or 3.00%\\n'\n",
      " '- IPG: 2.75% or 3.00%\\n'\n",
      " '- MCP (Multi-Currency Pricing): 2.75%')\n"
     ]
    }
   ],
   "source": [
    "inputs = {\"question\": \"How does pricing looks like for this ?\"}\n",
    "for output in app.stream(inputs, config=config):\n",
    "    for key, value in output.items():\n",
    "        # Node\n",
    "        pprint(f\"Node '{key}':\")\n",
    "        # Optional: print full state at each node\n",
    "        # pprint.pprint(value[\"keys\"], indent=2, width=80, depth=None)\n",
    "    pprint(\"\\n---\\n\")\n",
    "# Final generation\n",
    "pprint(value[\"generation\"])"
   ]
  },
  {
   "cell_type": "code",
   "execution_count": 81,
   "metadata": {},
   "outputs": [
    {
     "name": "stdout",
     "output_type": "stream",
     "text": [
      "\"Node 'retrieve':\"\n",
      "'\\n---\\n'\n",
      "---CHECKING DOCUMENT RELEVANT IS TO QUESTION OR NOT---\n",
      "---GRADE: DOCUMENT RELEVANT---\n",
      "---GRADE: DOCUMENT RELEVANT---\n",
      "---GRADE: DOCUMENT RELEVANT---\n",
      "---DECISION: GENERATE---\n",
      "\"Node 'grade_documents':\"\n",
      "'\\n---\\n'\n",
      "---GENERATE---\n",
      "---DECISION: SUPPORTED, MOVE TO FINAL GRADE---\n",
      "\"Node 'generate':\"\n",
      "'\\n---\\n'\n",
      "---FINAL GRADE---\n",
      "---DECISION: USEFUL---\n",
      "\"Node 'prepare_for_final_grade':\"\n",
      "'\\n---\\n'\n",
      "(\"I'd be happy to explain the information about Genie Business in simpler \"\n",
      " 'terms.\\n'\n",
      " '\\n'\n",
      " \"You wanted me to explain something, but I'm not sure what specific part of \"\n",
      " 'the information you were having trouble understanding. Would you like me to '\n",
      " 'explain something in particular, such as how multi-currency pricing works or '\n",
      " 'how to use the Genie Business platform?')\n"
     ]
    }
   ],
   "source": [
    "inputs = {\"question\": \"I can't understand it can you explain it further ?\"}\n",
    "for output in app.stream(inputs, config=config):\n",
    "    for key, value in output.items():\n",
    "        # Node\n",
    "        pprint(f\"Node '{key}':\")\n",
    "        # Optional: print full state at each node\n",
    "        # pprint.pprint(value[\"keys\"], indent=2, width=80, depth=None)\n",
    "    pprint(\"\\n---\\n\")\n",
    "# Final generation\n",
    "pprint(value[\"generation\"])"
   ]
  }
 ],
 "metadata": {
  "kernelspec": {
   "display_name": "Python 3",
   "language": "python",
   "name": "python3"
  },
  "language_info": {
   "codemirror_mode": {
    "name": "ipython",
    "version": 3
   },
   "file_extension": ".py",
   "mimetype": "text/x-python",
   "name": "python",
   "nbconvert_exporter": "python",
   "pygments_lexer": "ipython3",
   "version": "3.12.1"
  }
 },
 "nbformat": 4,
 "nbformat_minor": 2
}
