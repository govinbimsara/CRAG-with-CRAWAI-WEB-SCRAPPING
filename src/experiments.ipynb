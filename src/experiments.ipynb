{
 "cells": [
  {
   "cell_type": "code",
   "execution_count": 43,
   "metadata": {},
   "outputs": [],
   "source": [
    "from langchain_groq import ChatGroq\n",
    "from langgraph.checkpoint.memory import MemorySaver, InMemorySaver\n",
    "from langchain_huggingface import HuggingFaceEmbeddings\n",
    "from langchain_community.vectorstores import FAISS\n",
    "from langchain_core.output_parsers import StrOutputParser\n",
    "from langchain_core.prompts import ChatPromptTemplate\n",
    "from langchain_core.pydantic_v1 import BaseModel, Field\n",
    "from typing import Literal, List\n",
    "from typing_extensions import TypedDict\n",
    "from dotenv import load_dotenv\n",
    "import os"
   ]
  },
  {
   "cell_type": "code",
   "execution_count": 2,
   "metadata": {},
   "outputs": [
    {
     "data": {
      "text/plain": [
       "True"
      ]
     },
     "execution_count": 2,
     "metadata": {},
     "output_type": "execute_result"
    }
   ],
   "source": [
    "load_dotenv()"
   ]
  },
  {
   "cell_type": "code",
   "execution_count": 3,
   "metadata": {},
   "outputs": [],
   "source": [
    "groq_api_key = os.getenv(\"GROQ_API_KEY\")\n",
    "os.environ[\"LANGCHAIN_API_KEY\"] = os.getenv(\"LANGCHAIN_API_KEY\")\n",
    "# os.environ[\"LANGCHAIN_PROJECT\"] = os.getenv(\"LANGCHAIN_PROJECT\")\n",
    "# os.environ[\"LANGCHAIN_TRACING_V2\"]=\"true\"\n",
    "os.environ[\"HF_TOKEN\"] = os.getenv(\"HF_TOKEN\")"
   ]
  },
  {
   "cell_type": "code",
   "execution_count": 4,
   "metadata": {},
   "outputs": [
    {
     "name": "stderr",
     "output_type": "stream",
     "text": [
      "/usr/local/python/3.12.1/lib/python3.12/site-packages/tqdm/auto.py:21: TqdmWarning: IProgress not found. Please update jupyter and ipywidgets. See https://ipywidgets.readthedocs.io/en/stable/user_install.html\n",
      "  from .autonotebook import tqdm as notebook_tqdm\n"
     ]
    }
   ],
   "source": [
    "llm = ChatGroq(model=os.getenv(\"LLM_MODEL\", \"mixtral-8x7b-32768\"), api_key=groq_api_key)\n",
    "embeddings_model = HuggingFaceEmbeddings(model_name='all-MiniLM-L6-v2')"
   ]
  },
  {
   "cell_type": "code",
   "execution_count": 19,
   "metadata": {},
   "outputs": [],
   "source": [
    "# gemma2-9b-it\n",
    "\n",
    "vectorstore = FAISS.load_local(\"/workspaces/CRAG-with-CRAWAI-WEB-SCRAPPING/faiss_index\", embeddings_model, allow_dangerous_deserialization=True)\n",
    "retriever = vectorstore.as_retriever()"
   ]
  },
  {
   "cell_type": "code",
   "execution_count": 17,
   "metadata": {},
   "outputs": [
    {
     "name": "stdout",
     "output_type": "stream",
     "text": [
      "[Document(id='3334aaf2-6f7c-4e09-b7fd-ae740527f50a', metadata={'title': 'Contact Genie Business', 'summary': 'To get in touch with Genie Business, you can call them or fill out the contact form on their website. They aim to respond to all inquiries within 24 hours on business days.', 'url': 'https://www.geniebusiness.lk/retail.php'}, page_content='and we will contact you. We endeavor to answer all inquiries within 24 hours on business days. \\n[ Call](https://www.geniebusiness.lk/<tel:+94760760760>) Email\\nName\\nEmail\\nPhone Number\\nMessage\\nSubmit\\n[ ![](https://www.geniebusiness.lk/media/callemail.png) ](https://www.geniebusiness.lk/<#contact-pop>)'), Document(id='3debcc22-ce8a-4fdc-9173-e686ee1babfc', metadata={'title': 'Genie Business: Your Strategic Partner for Business Growth', 'summary': 'Genie Business empowers medium and large corporate entities with various payment collection channels, prioritizing convenience for customers and efficiency for operations. The platform values corporate synergy and partnerships, offering innovative solutions to support business growth and improve relationships with clients and partners. Genie Business provides easy and versatile payment solutions, including an effortless contactless payment system.', 'url': 'https://www.geniebusiness.lk/medium-and-large-corporates.php'}, page_content=\"[Start Now ](https://www.geniebusiness.lk/<start-now.php>)\\nYour Strategic Partner for Business Growth\\nEmpower your medium or large corporate entity with a variety of payment collection channels, enhancing convenience for your customers and efficiency for your operations. [ Download Genie Business now ](https://www.geniebusiness.lk/<https:/bit.ly/m/Genie-Business>)\\n![](https://www.geniebusiness.lk/media/industries/medium-and-large-corporates/benefits.jpg)\\nWe value corporate synergy and the power of partnerships. Your company is more than just a business; it's a key player in the industry. We're dedicated to supporting your growth and improving your relationships with clients and partners. With Genie Business, we offer innovative solutions to make this process as smooth and productive as possible \\nEasy and VersatilePayment Solutions\\n#### [Tap to pay Effortless contactless payment solution; simply tap your card or device for instant transactions. ](https://www.geniebusiness.lk/<tap-to-pay.php>)\\n#### [Payment Links Secure, easy-to-use payment option; send links to customers for hassle-free remote transactions. ](https://www.geniebusiness.lk/<payment-links.php>)\\n#### [QR Code Payments Simplify payments with QR code technology, offering customers a fast, secure, and convenient way to pay using their smartphones. ](https://www.geniebusiness.lk/<qr-payments.php>)\\n#### [Internet Payment Gateway (IPG) Secure and versatile, the IPG facilitates online transactions, supporting the e-commerce needs of modern businesses. ](https://www.geniebusiness.lk/<payment-gateway.php>)\\n#### [Multi-Currency Payments (MCP) Enhance your global reach with Multi-Currency Payments, allowing seamless transactions in various currencies for an expanded customer base./p> ](https://www.geniebusiness.lk/<multi-currency-payments.php>)\\nBenefits for Medium & Large Corporations\\nScale operations efficiently, manage finances better, ensure customer satisfaction. \\nImprove transaction speed, enhance security, expand market reach easily. \\nStreamline financial processes, boost efficiency, grow the customer base rapidly. \\nSimplify payments, reduce overheads, increase profits, and attract customers. \\nOur Promise to You\\nWe understand that technology can be overwhelming, so we've made our services straightforward and user-friendly. No jargon, just simple solutions tailored for you. \\nBecome a Genie Business Merchant today \\n[Start Now ](https://www.geniebusiness.lk/<start-now.php>) [](https://www.geniebusiness.lk/<tel:+94760760760>)\\nBecome a Genie Business Merchant today \\n[Start Now ](https://www.geniebusiness.lk/<start-now.php>) [](https://www.geniebusiness.lk/<tel:+94760760760>)\\nFeatured Merchants\\nChandana Super Genie Business has made settling payments with my distributors easy! The platform is incredibly user-friendly, making the entire process smooth and efficient. No more chasing down invoices or dealing with manual payments. \\n![](https://www.geniebusiness.lk/media/featured-merchants/Chandana_Super-Chathuranga_Lakmal_Perera.jpg)\\nDharshana Grocery The Genie Business dashboard has really made things simpler for me. It helps me keep everything in order and well-arranged. I can quickly check and update all my monthly sales information, and it also assists me in planning for future sales. \\n![](https://www.geniebusiness.lk/media/featured-merchants/Dharshana_Grocery - Kanchana_Liyanage.jpg)\\nJ M Super While enjoying other payment options from Genie Business, eZ Cash biller extension made it possible for me to add in new income streams. \\n![](https://www.geniebusiness.lk/media/featured-merchants/J.M.Super - Janaka_Saman_Perera.jpg)\\n![](https://www.geniebusiness.lk/media/logo.svg) Genie Business is an the all-in-one fintech business solution in Sri Lanka, designed to simplify receiving payments through QR codes, tap to pay, and payment links. It offers working capital services, includes a Internet Payment Gateway (IPG), supports Multi-Currency Pricing (MCP), and features an E-Store, catering to the diverse needs of today's businesses. \\n[Home](https://www.geniebusiness.lk/<index.php>) [Tap to Pay](https://www.geniebusiness.lk/<tap-to-pay.php>) [Internet Payment Gateway](https://www.geniebusiness.lk/<payment-gateway.php>) [Multi-currency Pricing](https://www.geniebusiness.lk/<multi-currency-pricing.php>) [E-store](https://www.geniebusiness.lk/<e-store.php>) [Payment Links](https://www.geniebusiness.lk/<payment-links.php>) [QR payments](https://www.geniebusiness.lk/<qr-payments.php>) [Billing Services](https://www.geniebusiness.lk/<billing-services.php>)\\n[Retail](https://www.geniebusiness.lk/<retail.php>) [E-commerce & Social Media Business](https://www.geniebusiness.lk/<ecommerce-and-social-media-business.php>) [Travel and Tourism](https://www.geniebusiness.lk/<travel-and-tourism.php>) [Home Based Business](https://www.geniebusiness.lk/<home-based-business.php>) [Professional Services](https://www.geniebusiness.lk/<professional-services.php>) [Medium and Large Corpo\"), Document(id='927c7f57-22e2-4f3c-8ecd-0c8651a6ecb3', metadata={'title': 'Genie Business: Your Partner in Growth and Success', 'summary': 'Genie Business, provided by Dialog Finance PLC, is a comprehensive fintech solution for businesses. It offers convenient payment methods such as Tap to Pay, QR, and online transactions, as well as essential tools like working capital loans, payment links, and multi-currency pricing options. The platform aims to foster innovation, help businesses grow, and build a thriving business community.', 'url': 'https://www.geniebusiness.lk/'}, page_content=\"[Start Now ](https://www.geniebusiness.lk/<start-now.php>)\\nWe're Here for You,\\nEvery Step of the Way\\nAt Genie Business, we're more than just a service provider – we're a committed partner in fostering innovation and driving business growth. Our mission is to transform how transactions are handled and help grow your business to new heights. [ Download Genie Business now ](https://www.geniebusiness.lk/<https:/onelink.to/e82ah6>)\\nDiscover\\nGenie Business\\nWelcome to Genie Business by Dialog Finance PLC, the hub of Sri Lanka's business community. We're more than just a payment solution; we're your partner in growth and success. Our all-in-one fintech business solution offers not only the convenience of Tap to Pay, QR, and online transactions but also empowers your venture with essential tools like working capital loans, payment links, and multi-currency pricing options. Beyond that, we're here to nurture a thriving business community. \\nOur Products\\n#### [Payment Links Secure, easy-to-use payment option; send links to customers for hassle-free remote transactions. ](https://www.geniebusiness.lk/<payment-links.php>)\\n#### [Internet Payment Gateway (IPG) Secure and versatile, the IPG facilitates online transactions, supporting the E-commerce needs of modern businesses. ](https://www.geniebusiness.lk/<payment-gateway.php>)\\n#### [Multi-Currency Pricing (MCP) Enhance your global reach with Multi-Currency Pricing, allowing seamless transactions in various currencies for an expanded customer base. ](https://www.geniebusiness.lk/<multi-currency-pricing.php>)\\n#### [E-Store Quickly launch your online store, offering seamless shopping experiences. ](https://www.geniebusiness.lk/<e-store.php>)\\n#### [Billing Services Earn an additional income through accepting to settle your customers’ variety of bills including Utility, Insurance and reload Dialog mobile numbers. ](https://www.geniebusiness.lk/<ez-cash-biller-extension.php>)\\n#### [Tap to pay Effortless contactless payment solution; simply tap your card or device for instant transactions. ](https://www.geniebusiness.lk/<tap-to-pay.php>)\\n#### [QR Code Payments Simplify payments with QR code technology, offering customers a fast, secure, and convenient way to pay using their smartphones. ](https://www.geniebusiness.lk/<qr-payments.php>)\\nOur Lending Solutions\\nSkip the loan paperwork, Genie Business offers flexible working capital solutions to fuel your business.\\n[Explore ](https://www.geniebusiness.lk/<lending.php>)\\nSkip the loan paperwork, Genie Business offers flexible working capital solutions to fuel your business.\\n[Explore ](https://www.geniebusiness.lk/<lending.php>)\\nIndustries\\n[ ![](https://www.geniebusiness.lk/media/industries/retail.png) Retail ](https://www.geniebusiness.lk/<retail.php>)\\n[ ![](https://www.geniebusiness.lk/media/industries/ecom.png) E-commerce & Social Media Businesses  ](https://www.geniebusiness.lk/<ecommerce-and-social-media-business.php>)\\n[ ![](https://www.geniebusiness.lk/media/industries/travel.png) Travel andTourism ](https://www.geniebusiness.lk/<travel-and-tourism.php>)\\n[ ![](https://www.geniebusiness.lk/media/industries/home.png) Home Based Business ](https://www.geniebusiness.lk/<home-based-business.php>)\\n[ ![](https://www.geniebusiness.lk/media/industries/pro.png) ProfessionalServices ](https://www.geniebusiness.lk/<professional-services.php>)\\n[ ![](https://www.geniebusiness.lk/media/industries/corp.png) Medium and Large Corporates ](https://www.geniebusiness.lk/<medium-and-large-corporates.php>)\\n[ ![](https://www.geniebusiness.lk/media/industries/other.png) OtherBusinesses ](https://www.geniebusiness.lk/<other-businesses.php>)\\n![](https://www.geniebusiness.lk/media/home/ff1.gif) ![](https://www.geniebusiness.lk/media/home/ff2.gif) ![](https://www.geniebusiness.lk/media/home/ff3.gif)\\n![](https://www.geniebusiness.lk/media/home/ff1.gif)\\nGet paid through payment links, QR codes and Tap to Pay \\nMaking payments has never been easier!\\n![](https://www.geniebusiness.lk/media/home/ff2.gif)\\nReceive payments from anywhere in the world\\nTap into a global customer base and get paid in days! \\n![](https://www.geniebusiness.lk/media/home/ff3.gif)\\nBuilding your E-Store has never been easier\\nEstablish your online presence with Genie Business E-Store and Internet Payment Gateways!\\nWhy businesses need card acceptance facilities?\\n20Mn+\\nNo. of Credit & Debit Cards in use locally \\n65%\\nIncrease in usage of Credit & Debit cards against usage of Cash during the last 5 years \\n370K+\\nNo. of merchants with LankaQR \\nSource - Central Bank of Sri Lanka - Payments bulletin 2018 Q3 to 2023 Q3 \\nCustomer Testimonials\\nI started my business as a street vendor. Genie Business lending facility gave me an opportunity to grow and set up my own shop. \\nMr. Aravinda Priyankara\\nMinthula Fruits\\nDigital payment solutions like Tap to Pay has increased my customer base. \\nMs. Nivethana Perera\\nAmaya Food\\nGenie Business is a user friendly app to work with and a trusted payment solution backed b\")]\n"
     ]
    }
   ],
   "source": [
    "docs = retriever.invoke(\"What Genie Business\",ConsistencyLevel=\"LOCAL_ONE\")\n",
    "print(docs)"
   ]
  },
  {
   "cell_type": "markdown",
   "metadata": {},
   "source": [
    "RAG CHAIN"
   ]
  },
  {
   "cell_type": "code",
   "execution_count": 23,
   "metadata": {},
   "outputs": [],
   "source": [
    "system = \"\"\"You are a customer service assistant for question-answering tasks. \\n\n",
    "Use the following pieces of retrieved context to answer the question. \\n\n",
    "If you don't know the answer, just say that you don't know. \\n\n",
    "Use simpler and keep the answer short but detailed and answer concise.\"\"\"\n",
    "\n",
    "agent_promt = ChatPromptTemplate.from_messages(\n",
    "    [\n",
    "        (\"system\", system),\n",
    "        (\"human\", \"Answer the question {question} with the context {context}\"),\n",
    "    ]\n",
    ")\n",
    "rag_chain = agent_promt | llm | StrOutputParser()"
   ]
  },
  {
   "cell_type": "code",
   "execution_count": 18,
   "metadata": {},
   "outputs": [
    {
     "name": "stdout",
     "output_type": "stream",
     "text": [
      "Genie Business is a fintech business solution provided by Dialog Finance PLC in Sri Lanka. It offers convenient payment methods like Tap to Pay, QR, and online transactions. Additionally, it provides essential tools such as working capital loans, payment links, and multi-currency pricing options. Genie Business aims to foster innovation, help businesses grow, and build a thriving business community.\n"
     ]
    }
   ],
   "source": [
    "question = \"What is genie business\"\n",
    "generation = rag_chain.invoke({\"context\": docs, \"question\": question})\n",
    "print(generation)"
   ]
  },
  {
   "cell_type": "markdown",
   "metadata": {},
   "source": [
    "Graded document class"
   ]
  },
  {
   "cell_type": "code",
   "execution_count": 22,
   "metadata": {},
   "outputs": [],
   "source": [
    "class GradedDocument(BaseModel):\n",
    "    \"\"\"Binary score for relevance check on retrieved documents.\"\"\"\n",
    "\n",
    "    binary_score: Literal[\"Yes\", \"No\"] = Field(description=\"Documents are relevent to the question 'Yes' or 'No'\")"
   ]
  },
  {
   "cell_type": "markdown",
   "metadata": {},
   "source": [
    "LLM with structured output"
   ]
  },
  {
   "cell_type": "code",
   "execution_count": 24,
   "metadata": {},
   "outputs": [],
   "source": [
    "structured_llm_grader = llm.with_structured_output(GradedDocument)\n",
    "\n",
    "system = \"\"\"You are an expert at grading and assessing relevance of a retrieved document to a user question. \\n \n",
    "    If the document contains keyword(s) or semantic meaning related to the question, grade it as relevant. \\n\n",
    "    Give a binary score 'yes' or 'no' score to indicate whether the document is relevant to the question.\"\"\"\n",
    "\n",
    "grade_prompt = ChatPromptTemplate.from_messages(\n",
    "    [\n",
    "        (\"system\",system),\n",
    "        (\"human\",\"Retrieved document: \\n\\n {document} \\n\\n User question: {question}\")\n",
    "    ]\n",
    ")\n",
    "\n",
    "retrieval_grader = grade_prompt | structured_llm_grader"
   ]
  },
  {
   "cell_type": "code",
   "execution_count": 28,
   "metadata": {},
   "outputs": [
    {
     "name": "stdout",
     "output_type": "stream",
     "text": [
      "binary_score='Yes'\n"
     ]
    }
   ],
   "source": [
    "question = \"What is genie business\"\n",
    "docs = retriever.get_relevant_documents(question)\n",
    "doc_txt = docs[1].page_content\n",
    "print(retrieval_grader.invoke({\"question\": question, \"document\": doc_txt}))"
   ]
  },
  {
   "cell_type": "code",
   "execution_count": 26,
   "metadata": {},
   "outputs": [
    {
     "name": "stdout",
     "output_type": "stream",
     "text": [
      "binary_score='No'\n"
     ]
    }
   ],
   "source": [
    "question = \"tell me about the Tajmahal.\"\n",
    "docs = retriever.get_relevant_documents(question)\n",
    "doc_txt = docs[1].page_content\n",
    "print(retrieval_grader.invoke({\"question\": question, \"document\": doc_txt}))"
   ]
  },
  {
   "cell_type": "markdown",
   "metadata": {},
   "source": [
    "Question re-writer"
   ]
  },
  {
   "cell_type": "code",
   "execution_count": 39,
   "metadata": {},
   "outputs": [],
   "source": [
    "system = \"\"\"You an expert question re-writer that converts an input question to a better version that is optimized for web search. \\n\n",
    "Look at the input and try to reason about the underlying semantic intent / meaning \\n\n",
    "Reply only with the new question \\n\n",
    "\"\"\"\n",
    "\n",
    "rewrite_prompt = ChatPromptTemplate.from_messages(\n",
    "    [\n",
    "        (\"system\",system),\n",
    "        (\"human\",\"Here is the initial question: \\n\\n {question} \\n Formulate an improved question.\")\n",
    "    ]\n",
    ")\n",
    "\n",
    "question_rewriter = rewrite_prompt | llm | StrOutputParser()"
   ]
  },
  {
   "cell_type": "code",
   "execution_count": 41,
   "metadata": {},
   "outputs": [
    {
     "data": {
      "text/plain": [
       "'\"What is the nature of Genie\\'s business model?\"'"
      ]
     },
     "execution_count": 41,
     "metadata": {},
     "output_type": "execute_result"
    }
   ],
   "source": [
    "question_rewriter.invoke({\"question\": question})"
   ]
  },
  {
   "cell_type": "markdown",
   "metadata": {},
   "source": [
    "Create state class to manage state in the graph"
   ]
  },
  {
   "cell_type": "code",
   "execution_count": null,
   "metadata": {},
   "outputs": [],
   "source": [
    "class State(TypedDict):\n",
    "    \"\"\"\n",
    "    Represents the state of our graph.\n",
    "\n",
    "    Attributes:\n",
    "        question: question\n",
    "        generation: LLM generation\n",
    "        web_search: whether to add search\n",
    "        documents: list of documents\n",
    "    \"\"\"\n",
    "\n",
    "    question: str\n",
    "    generation: str\n",
    "    web_search: str\n",
    "    documents: List[str]"
   ]
  }
 ],
 "metadata": {
  "kernelspec": {
   "display_name": "Python 3",
   "language": "python",
   "name": "python3"
  },
  "language_info": {
   "codemirror_mode": {
    "name": "ipython",
    "version": 3
   },
   "file_extension": ".py",
   "mimetype": "text/x-python",
   "name": "python",
   "nbconvert_exporter": "python",
   "pygments_lexer": "ipython3",
   "version": "3.12.1"
  }
 },
 "nbformat": 4,
 "nbformat_minor": 2
}
